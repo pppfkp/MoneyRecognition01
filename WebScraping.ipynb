{
 "cells": [
  {
   "cell_type": "code",
   "execution_count": 3,
   "id": "adeb4aab-7be0-47ac-abf4-4d9e04a606ce",
   "metadata": {},
   "outputs": [
    {
     "name": "stderr",
     "output_type": "stream",
     "text": [
      "/bin/sh: 1: google-chrome: not found\n",
      "/bin/sh: 1: google-chrome: not found\n"
     ]
    },
    {
     "name": "stdout",
     "output_type": "stream",
     "text": [
      "Reject all\n"
     ]
    }
   ],
   "source": [
    "# selenium 4\n",
    "from selenium import webdriver\n",
    "from selenium.webdriver.chrome.service import Service as ChromeService\n",
    "from webdriver_manager.chrome import ChromeDriverManager\n",
    "from selenium.webdriver.common.by import By\n",
    "\n",
    "driver = webdriver.Chrome(service=ChromeService(ChromeDriverManager().install()))\n",
    "\n",
    "\n",
    "driver.implicitly_wait(5)\n",
    "\n",
    "# link to google search by Image with image of 20zl\n",
    "driver.get(\"https://lens.google.com/search?ep=gisbubb&hl=en-PL&re=df&p=AbrfA8qqtSMrnyuK9rVniz0cKndaNP6BH7vlsSDp_47tx7vSpf3P1HSBBTaC8xufFiwIMvh8EavTxzcx6KtAum2rI7d2pDCb680F4symVRxo1DdkGxzeOXk_wM45UJkOOB0pY0kD8-JRpE4hv9WhylAt2MnXDQiyj91nYD4-8kkRxnkPtTi_vmBjByXVd7NeBcd95zW2_zlVDvlN6rceZSnhYq9LViMp1yXt9pVtqfOoHuLunK1Wa3VFvKDw91SsbpP-a3f_BM4YZzpW5R1pH3KbwjVEG7cA9-jQM-bcA6q9keeRDAwKwnK4k7epdBSYCXyUV8KaGMLo9HAwFPINTshfNwvDxg%3D%3D#lns=W251bGwsbnVsbCxudWxsLG51bGwsbnVsbCxudWxsLG51bGwsIkVrY0tKRFl3TVRrMVpEYzFMV1JqTVRNdE5ESmhOaTA1TjJNd0xXUTNNV0ZrTjJFNFpEQXlZUklmV1RSRVpHSjNNV2hXZEUxWVdVUnpaM0puWDBNeFVEVTVPVVZwZW5Wb1p3PT0iXQ==\")\n",
    "button = driver.find_element(By.TAG_NAME, \"button\")\n",
    "\n",
    "print(button.text)\n",
    "button.click()"
   ]
  },
  {
   "cell_type": "code",
   "execution_count": 59,
   "id": "09ed91dc-29e4-42ae-8c30-062b05b4f21a",
   "metadata": {
    "scrolled": true
   },
   "outputs": [
    {
     "data": {
      "text/plain": [
       "['https://encrypted-tbn3.gstatic.com/images?q=tbn:ANd9GcTLb6F5jpkHnIiXdgZDsCefs3SiCbGyA5D8AaHaZWtn-Jels2g6',\n",
       " 'https://encrypted-tbn2.gstatic.com/images?q=tbn:ANd9GcS12dioSBzspiuVyHQ73_AENuaTyI2VtBY-rdjihgg6pC52sST0',\n",
       " 'https://encrypted-tbn0.gstatic.com/images?q=tbn:ANd9GcQlcIsAsfBNflfXY0dkZjmQE6N8tDqGreVYDx4ITbgAZtm-QtXU',\n",
       " 'https://encrypted-tbn1.gstatic.com/images?q=tbn:ANd9GcTMMyveo9H3RJdevWKI5UBnY6ddNbThXYmxI2ECq4zsUteGkhGJ',\n",
       " 'https://encrypted-tbn3.gstatic.com/images?q=tbn:ANd9GcRXmCTfrxPqeHGXwfMct-x7ECiv9uneh0LK-2GBb8kdz0MVF2OV',\n",
       " 'https://encrypted-tbn2.gstatic.com/images?q=tbn:ANd9GcSGywtBfZ3cLFXnObPno2l5XeZKrNnSznM0wbbixBOdekKcrtbg',\n",
       " 'https://encrypted-tbn1.gstatic.com/images?q=tbn:ANd9GcQdNMiftmWU-P94hxNJEoD2J6DdLX-elh2c4bz9yVKu8L37MBN6',\n",
       " 'https://encrypted-tbn2.gstatic.com/images?q=tbn:ANd9GcSsdtuDmEvAku-sg0488DpPboQgHxdyDSuZgHEZc-DiqCckq3aY',\n",
       " 'https://encrypted-tbn2.gstatic.com/images?q=tbn:ANd9GcTAUGUD_uOP41c9-eF9qlgfFtjH1xVLPqvlp-MB4agmkBRPqYDm',\n",
       " 'https://encrypted-tbn0.gstatic.com/images?q=tbn:ANd9GcQZOtSnZRcBof0Ku2XYOhyLxClyFXBcevIZz2ain_ucAP7_Z0If',\n",
       " 'https://encrypted-tbn2.gstatic.com/images?q=tbn:ANd9GcR3aUnSwKHl0O7MRMCJauIidTjHZGaK_H7EtViN2BAG4IY7sa29',\n",
       " 'https://encrypted-tbn2.gstatic.com/images?q=tbn:ANd9GcSVfGBTmjtKbvXDZPWzSPo24ynX1hVDSTkXtQDLU4M2ve-pMPtR',\n",
       " 'https://encrypted-tbn1.gstatic.com/images?q=tbn:ANd9GcShPNecLkJpQj-tL3WIAUB79alccVPc9czcbYwEh9NK_QKX_Y4P',\n",
       " 'https://encrypted-tbn3.gstatic.com/images?q=tbn:ANd9GcS0KWJw79TaljxPhhW-4UitvePcX7sCyv9m1rac0uTmD8FcqVRV',\n",
       " 'https://encrypted-tbn3.gstatic.com/images?q=tbn:ANd9GcTtNOrXYdC5IrfP7I_zQkXpHwt5GfvpzrJVgj9vKUUd90yaeunB',\n",
       " 'https://encrypted-tbn3.gstatic.com/images?q=tbn:ANd9GcTxYFTANgCpm7QxhF6Ip08CxQTRVDldBW3reyeC7g6LHDhRD9a3',\n",
       " 'https://encrypted-tbn2.gstatic.com/images?q=tbn:ANd9GcQ5RtTIt8eg5LN2qHQIbanaG-KSwfkpxXRPtCpT68_-bPmxemlj',\n",
       " 'https://encrypted-tbn3.gstatic.com/images?q=tbn:ANd9GcRSQtWIGsDILRNVMKJhyFLvzMsilnMikd2tSJJtHR1gGLeoSgWS',\n",
       " 'https://encrypted-tbn1.gstatic.com/images?q=tbn:ANd9GcQ5xHGIVGXcIdFyOUqfvzfzbPWaurGtBFYJKO7C9AlQGkfyGoQ3',\n",
       " 'https://encrypted-tbn1.gstatic.com/images?q=tbn:ANd9GcTt25gAzgP185sMfk8QDHYRO-t2mBsitd3YjbqaBfT2YCXxifWt',\n",
       " 'https://encrypted-tbn0.gstatic.com/images?q=tbn:ANd9GcROHwrGXbgcwFnBhtAs1SxBgvYj_dRLOPFQow_ZvHeGfr-nNUs0',\n",
       " 'https://encrypted-tbn0.gstatic.com/images?q=tbn:ANd9GcShLBtDqeP-mbIyUpc4faEmr4uaxkbQji9ylDHfBKGlq-a07AOT',\n",
       " 'https://encrypted-tbn2.gstatic.com/images?q=tbn:ANd9GcTyPPWUx9mhXajGR84OXgSoJBfdIIEsuqKgPX6VW1F3ZrLUw4lo',\n",
       " 'https://encrypted-tbn3.gstatic.com/images?q=tbn:ANd9GcTl_vbnpQnWKXc3RynbCV7Ez2OVq-dIY_L9c2iRlwVwmbFheGHE',\n",
       " 'https://encrypted-tbn2.gstatic.com/images?q=tbn:ANd9GcSTteobGf93b9udxtjPlDcUvhdU6U8AK-92HEaaXRLkTLeu0R1k',\n",
       " 'https://encrypted-tbn3.gstatic.com/images?q=tbn:ANd9GcQGi4SjOjJlJmhLEXPaIK5EiwAHJObqlZ_92ZahqnGWZq1p954-',\n",
       " 'https://encrypted-tbn0.gstatic.com/images?q=tbn:ANd9GcSYCoKaxgC9h3LCzFktMe9EJRd5-_GcOnzorPuZBWTNbS_vBrRU',\n",
       " 'https://encrypted-tbn3.gstatic.com/images?q=tbn:ANd9GcRglaXy6EgkOfhbUT1nDwP1fnaCMymjP8HqC6-WLZ3c7bZP6SXY',\n",
       " 'https://encrypted-tbn3.gstatic.com/images?q=tbn:ANd9GcRifIYiVg1vWuWNQoB_Ti4HYyWUA1o_ukDI1v4J7M90ja0V7-y7',\n",
       " 'https://encrypted-tbn3.gstatic.com/images?q=tbn:ANd9GcQP6QCdLSjdaNEojQ0nQ2r1JmXpdySkJ67519h9ioPChzcafNaR',\n",
       " 'https://encrypted-tbn1.gstatic.com/images?q=tbn:ANd9GcS1VRBBiTNW1sgEoDJWaWXRdauYG8xmgak1B0auRk8IkKK6iWgD',\n",
       " 'https://encrypted-tbn2.gstatic.com/images?q=tbn:ANd9GcRcr-Uca0_6nl-OTy8RzYfuUwyRuSqgIkHdcEb_pW4Nydeypn1b',\n",
       " 'https://encrypted-tbn3.gstatic.com/images?q=tbn:ANd9GcSXUt5SM-90tG1C9xYLHvt9bxPdPfwXEiz2ZEEpJRtSa-tm6vTL',\n",
       " 'https://encrypted-tbn0.gstatic.com/images?q=tbn:ANd9GcTuvzJvZ1-eUp7z8RrlOu5EWisDXwfHjeB3wzr3Sxo1QCljBqoc',\n",
       " 'https://encrypted-tbn0.gstatic.com/images?q=tbn:ANd9GcS0cRuWAKLyWq-LeKdtw3lmyauX-TgS9QkwYeB0EpYDoHLbbBJ5',\n",
       " 'https://encrypted-tbn0.gstatic.com/images?q=tbn:ANd9GcSyYEaEpdIOoX170B4gUso61lvvaWCMfDByaQVNEV5guhE-4M1W',\n",
       " 'https://encrypted-tbn2.gstatic.com/images?q=tbn:ANd9GcQ-vukDcafbAtflw255wYoHxJ1UJ0zef8Xu3FLUWVjyKzbotnAG',\n",
       " 'https://encrypted-tbn0.gstatic.com/images?q=tbn:ANd9GcTCgUsUNzoFCfZYDRIYZkoa0hDWSM42UkTapR6TxVaXgLhYoIwM',\n",
       " 'https://encrypted-tbn2.gstatic.com/images?q=tbn:ANd9GcRApKY3QX48AKe3PqxJU_MG0RKXjcDHWG53ucTvdqxuXCYT99Dv',\n",
       " 'https://encrypted-tbn0.gstatic.com/images?q=tbn:ANd9GcRHLlXG6ey_PXR9hePvjpD7Vg6ShFN7fk48g-4XIAcZnY7H_TI2',\n",
       " 'https://encrypted-tbn0.gstatic.com/images?q=tbn:ANd9GcTSHFesyti1BZ3qM_1t22g3ZT4OlUpUPiRjJYC5VN8K2bQmWeyE',\n",
       " 'https://encrypted-tbn0.gstatic.com/images?q=tbn:ANd9GcRKN-D7YlgbwdOzWVvhiDmIvEBmKJggX0e36waM1MqKAbxIi_fN',\n",
       " 'https://encrypted-tbn1.gstatic.com/images?q=tbn:ANd9GcT0Ig4aere5k2fjCzVLKFyNcS4hLN-Zt66svzkh5yXo9R4CZmiq',\n",
       " 'https://encrypted-tbn0.gstatic.com/images?q=tbn:ANd9GcSKekbJjke1fJMw64-LVwmxna2MYrUb9xznArH4nBG8WVnl3F7I',\n",
       " 'https://encrypted-tbn0.gstatic.com/images?q=tbn:ANd9GcTs3gzy8BqYW5umtpmH-C75pgo12w9S05HkjMEX2NBCKXiRo906',\n",
       " 'https://encrypted-tbn1.gstatic.com/images?q=tbn:ANd9GcQiGxuT-gWAMcvbHHllZQO-oGaYLQeWuPZi60R7UT9Cs56vbLaW',\n",
       " 'https://encrypted-tbn1.gstatic.com/images?q=tbn:ANd9GcTmA3D1IpJ7_mxTvpz1GIfnet8CWJZBk6YTacueg0vY1sBNOha_',\n",
       " 'https://encrypted-tbn2.gstatic.com/images?q=tbn:ANd9GcS5SFDHj-y06VLwiTan7GHJgznRvJ7U0BXrCVEzo0KXLhzaHXYx',\n",
       " 'https://encrypted-tbn3.gstatic.com/images?q=tbn:ANd9GcRtf6VXZ65oQiXbJcEMc0mg3-XjKGkwVZrZbbmO_XUSMOFyt-hk',\n",
       " 'https://encrypted-tbn3.gstatic.com/images?q=tbn:ANd9GcT7CmpXSwVxV-J9NKg5kkiJQPgzwqrsXjBlfOSeeGjuTzSskcyR',\n",
       " 'https://encrypted-tbn1.gstatic.com/images?q=tbn:ANd9GcT2u-jUvVhewWspjxLfsN6K5MEQUFa4pPIkKdw4YQdZoUenMEF6',\n",
       " 'https://encrypted-tbn1.gstatic.com/images?q=tbn:ANd9GcSUexKXKogeTWmFJKn5pIonCcpl35CHOv7myaBZSw4G5uqBj7U1',\n",
       " 'https://encrypted-tbn0.gstatic.com/images?q=tbn:ANd9GcRoDet-HR0mA-8-6iGplkkFKySpeAlfoIwpFWbR0eSlhoS6P6sG',\n",
       " 'https://encrypted-tbn1.gstatic.com/images?q=tbn:ANd9GcRiV9lH-MXNldEe_i56fxaOaTPW5m_kJ-UQ2C7Nub1BS6ZRZNCM',\n",
       " 'https://encrypted-tbn0.gstatic.com/images?q=tbn:ANd9GcRZ5WLvA6avswRxKqmf5RHdtfjiKnCpyN1RbpIiJGAxiCOUFaSX',\n",
       " 'https://encrypted-tbn1.gstatic.com/images?q=tbn:ANd9GcStOZIBRy28XUJPyv45HUR6Kr3PKBoYzd6Gw6UNtvoS3YgEdDWT',\n",
       " 'https://encrypted-tbn2.gstatic.com/images?q=tbn:ANd9GcTSgqbY3dLNpzdVRkW6yNhjms-QmS1dt6NRowPGGvs4sSYQkqTJ',\n",
       " 'https://encrypted-tbn2.gstatic.com/images?q=tbn:ANd9GcSOnuiFSm-pu-hDT8A58zSHZCcGGxVT89-C7gcZ-c0BZG08sswP',\n",
       " 'https://encrypted-tbn3.gstatic.com/images?q=tbn:ANd9GcTHimq3GcZ03lotFQ6hw1OTx-Ka22SxOBTdP6OtQEY1xcqm4QnV',\n",
       " 'https://encrypted-tbn1.gstatic.com/images?q=tbn:ANd9GcQuvrg6I8CBRSFOmBSErUocoTp3batZMm54AxMX4ayAiIF74jMX']"
      ]
     },
     "execution_count": 59,
     "metadata": {},
     "output_type": "execute_result"
    }
   ],
   "source": [
    "# get all images from site\n",
    "imgs = driver.find_elements(By.TAG_NAME, \"img\")\n",
    "\n",
    "\n",
    "similar_photos = []\n",
    "for img in imgs:\n",
    "    # filter out similar photos by their size and links\n",
    "    if img.get_attribute('src').startswith('https://encrypted') and img.size[\"height\"] > 50 and img.size[\"width\"] > 50:\n",
    "        similar_photos.append(img.get_attribute('src'))\n",
    "similar_photos"
   ]
  },
  {
   "cell_type": "code",
   "execution_count": 60,
   "id": "e2d9e022-73c7-4cd6-85ae-377ea129c2d0",
   "metadata": {},
   "outputs": [
    {
     "data": {
      "text/plain": [
       "60"
      ]
     },
     "execution_count": 60,
     "metadata": {},
     "output_type": "execute_result"
    }
   ],
   "source": [
    "len(similar_photos)"
   ]
  },
  {
   "cell_type": "code",
   "execution_count": 61,
   "id": "57d63187-b3b7-4198-8f55-072f58e762bd",
   "metadata": {},
   "outputs": [
    {
     "name": "stderr",
     "output_type": "stream",
     "text": [
      "100%|███████████████████████████████████████████████| 60/60 [00:09<00:00,  6.61it/s]\n"
     ]
    }
   ],
   "source": [
    "import requests\n",
    "import uuid\n",
    "from tqdm import tqdm\n",
    "\n",
    "\n",
    "for photo in tqdm(similar_photos):\n",
    "    img_data = requests.get(photo).content\n",
    "    filename = str(uuid.uuid4())\n",
    "    with open(f\"images/dwadziescia/{filename}.jpg\", 'wb') as handler:\n",
    "        handler.write(img_data)"
   ]
  },
  {
   "cell_type": "code",
   "execution_count": null,
   "id": "e4abd421-6713-4fe5-8127-b709b039690f",
   "metadata": {},
   "outputs": [],
   "source": []
  }
 ],
 "metadata": {
  "kernelspec": {
   "display_name": "Python 3 (ipykernel)",
   "language": "python",
   "name": "python3"
  },
  "language_info": {
   "codemirror_mode": {
    "name": "ipython",
    "version": 3
   },
   "file_extension": ".py",
   "mimetype": "text/x-python",
   "name": "python",
   "nbconvert_exporter": "python",
   "pygments_lexer": "ipython3",
   "version": "3.10.12"
  }
 },
 "nbformat": 4,
 "nbformat_minor": 5
}
